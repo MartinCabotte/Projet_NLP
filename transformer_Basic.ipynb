{
 "cells": [
  {
   "cell_type": "markdown",
   "id": "947c22d5",
   "metadata": {},
   "source": [
    "# Notebook 1 : Transformer\n",
    "\n",
    "Le but de ce notebook est d'importer les données des datasets iSarcasmEval et de tester les transformer (tel que donné par *“Attention Is All You Need”*) afin de mesurer l'accuracy de base du projet et quantifier les futures améliorations\n",
    "\n",
    "### Etape 1 : Importer les librairies utiles au projet"
   ]
  },
  {
   "cell_type": "code",
   "execution_count": 1,
   "id": "92e12bf3",
   "metadata": {},
   "outputs": [],
   "source": [
    "import torch\n",
    "from torch import nn\n",
    "import numpy as np\n",
    "import pandas as pd"
   ]
  },
  {
   "cell_type": "markdown",
   "id": "d4ba7a2e",
   "metadata": {},
   "source": [
    "Test de Pytorch"
   ]
  },
  {
   "cell_type": "code",
   "execution_count": 2,
   "id": "d9ac2772",
   "metadata": {},
   "outputs": [
    {
     "name": "stdout",
     "output_type": "stream",
     "text": [
      "Using cpu device\n"
     ]
    }
   ],
   "source": [
    "device = 'cuda' if torch.cuda.is_available() else 'cpu'\n",
    "print('Using {} device'.format(device))"
   ]
  },
  {
   "cell_type": "markdown",
   "id": "28323de0",
   "metadata": {},
   "source": [
    "### Etape 2 : Chargeons les données"
   ]
  },
  {
   "cell_type": "code",
   "execution_count": 11,
   "id": "bd257dcb",
   "metadata": {},
   "outputs": [
    {
     "name": "stdout",
     "output_type": "stream",
     "text": [
      "--- Chargement des datasets ---\n",
      "Batch size : 100\n",
      "Batch size : 100\n",
      "--- Chargement des datasets terminé ---\n"
     ]
    }
   ],
   "source": [
    "from torch.utils.data import DataLoader\n",
    "from torch.utils.data import Dataset\n",
    "from torch import optim\n",
    "\n",
    "\n",
    "class iSarcasmDataset(Dataset):\n",
    "  def __init__(self, sentence, labels):\n",
    "        self.sentence = sentence\n",
    "        self.labels = labels\n",
    "\n",
    "  def __len__(self):\n",
    "        return len(self.sentence)\n",
    "\n",
    "  def __getitem__(self, index):\n",
    "        x = self.sentence[index]\n",
    "        y = self.labels[index]\n",
    "\n",
    "        return x, y\n",
    "    \n",
    "    \n",
    "\n",
    "print(\"--- Chargement des datasets ---\")\n",
    "\n",
    "\n",
    "#On donne les informations du dataset\n",
    "directory = \"dataset/\"\n",
    "train_name = \"train.En.csv\"\n",
    "test_name = \"task_A_En_test.csv\"\n",
    "\n",
    "\n",
    "#On défini les paramètres du dataloader\n",
    "params = {'batch_size': 100,\n",
    "          'shuffle': False,\n",
    "          'num_workers': 1}\n",
    "\n",
    "\n",
    "#On créé nos données de test\n",
    "panda_Train = pd.read_csv(directory+train_name, index_col=[0])\n",
    "X_train = panda_Train['tweet']\n",
    "y_train = panda_Train['sarcastic']\n",
    "\n",
    "\n",
    "#On créé notre dataset pyTorch\n",
    "train_iSarcasm = iSarcasmDataset(X_train, y_train)\n",
    "training_generator = DataLoader(train_iSarcasm, **params)\n",
    "\n",
    "\n",
    "#On regarde que tout soit bien chargé\n",
    "for i, (batch, labels) in enumerate(training_generator):\n",
    "    if i > 0:\n",
    "        break\n",
    "    print(\"Batch size : \"+str(len(batch)))\n",
    "    \n",
    "#On va créer nos données de validation\n",
    "panda_Test = pd.read_csv(directory+test_name, index_col=[0])\n",
    "X_test = panda_Test.index\n",
    "y_test = panda_Test['sarcastic']\n",
    "\n",
    "#On créé notre dataset pyTorch\n",
    "test_iSarcasm = iSarcasmDataset(X_test, y_test)\n",
    "test_generator = DataLoader(test_iSarcasm, **params)\n",
    "\n",
    "#On regarde que tout soit bien chargé\n",
    "for i, (batch, labels) in enumerate(test_generator):\n",
    "    if i > 0:\n",
    "        break\n",
    "    print(\"Batch size : \"+str(len(batch)))\n",
    "    \n",
    "print(\"--- Chargement des datasets terminé ---\")"
   ]
  },
  {
   "cell_type": "markdown",
   "id": "3e0c9cc0",
   "metadata": {},
   "source": [
    "On va maintenant réaliser un transformer de base sur nos données. Le réseau de neuronne aura la structure suivante : couche Embeddings, couche transformer, couche Dense pour la prédiction du prochain mot."
   ]
  },
  {
   "cell_type": "code",
   "execution_count": null,
   "id": "e04e557f",
   "metadata": {},
   "outputs": [],
   "source": [
    "# On créé les Embeddings avec la méthode du Word2Vec\n",
    "\n",
    "print(\"--- Création de la layer Embedding ---\")\n",
    "\n",
    "taille_embeddings = 10\n",
    "\n",
    "list_of_words = []\n",
    "for phrase in X_train:\n",
    "    if not(pd.isna(phrase)):\n",
    "        list_of_words.extend(phrase.split())\n",
    "    \n",
    "list_of_words = np.unique(list_of_words)\n",
    "len_Vocabulary = len(list_of_words)\n",
    "\n",
    "print(\"La longueur du vocabulaire est de : \"+str(len_Vocabulary))\n",
    "\n",
    "embedding = nn.Embedding(len_Vocabulary, taille_embeddings)\n",
    "\n",
    "print(\"--- Création de la layer Embedding terminée ---\")"
   ]
  },
  {
   "cell_type": "markdown",
   "id": "7995e64c",
   "metadata": {},
   "source": [
    "On va maintenant réaliser un transformer classique pour voir l'accuracy témoin"
   ]
  },
  {
   "cell_type": "code",
   "execution_count": null,
   "id": "64e6e4c3",
   "metadata": {},
   "outputs": [],
   "source": [
    "# On déclare notre modèle\n",
    "transformer_model = nn.Transformer(nhead=16, num_encoder_layers=12)\n",
    "\n",
    "# On se déclare une loss\n",
    "loss_fn = nn.CrossEntropyLoss()\n",
    "\n",
    "# On se déclare un optimiseur qui effectuera la descente de gradient\n",
    "optimizer_pyt = optim.Adam(transformer_model.parameters())\n",
    "\n",
    "# L'historique pour print plus tard\n",
    "loss_history, train_accuracy_history, valid_accuracy_history = [], [], []\n",
    "\n",
    "for i, (batch, labels) in enumerate(training_generator):\n",
    "\n",
    "    logits = transformer_model(embedding(batch),labels)\n",
    "    print(logits)\n",
    "    preds = torch.argmax(logits, dim=-1)\n",
    "    accuracy = torch.sum(preds == labels) / len(batch)\n",
    "\n",
    "    loss = loss_fn(logits, labels)\n",
    "\n",
    "    optimizer_pyt.zero_grad()\n",
    "    loss.backward()\n",
    "    optimizer_pyt.step()\n",
    "\n",
    "    training_accuracy.append(accuracy)\n",
    "    loss_history.append(loss.detach().numpy())\n",
    "\n",
    "    if i % 20 == 0:\n",
    "        print('batch {} / {} loss : {}'.format(i, len(training_generator), loss))"
   ]
  },
  {
   "cell_type": "code",
   "execution_count": null,
   "id": "c2ea4c5c",
   "metadata": {},
   "outputs": [],
   "source": []
  }
 ],
 "metadata": {
  "kernelspec": {
   "display_name": "Python 3 (ipykernel)",
   "language": "python",
   "name": "python3"
  },
  "language_info": {
   "codemirror_mode": {
    "name": "ipython",
    "version": 3
   },
   "file_extension": ".py",
   "mimetype": "text/x-python",
   "name": "python",
   "nbconvert_exporter": "python",
   "pygments_lexer": "ipython3",
   "version": "3.10.6"
  }
 },
 "nbformat": 4,
 "nbformat_minor": 5
}
