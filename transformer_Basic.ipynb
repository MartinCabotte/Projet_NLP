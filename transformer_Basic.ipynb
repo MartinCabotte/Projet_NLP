{
 "cells": [
  {
   "cell_type": "markdown",
   "id": "947c22d5",
   "metadata": {},
   "source": [
    "# Notebook 1 : Transformer\n",
    "\n",
    "Le but de ce notebook est d'importer les données des datasets iSarcasmEval et de tester les transformer (tel que donné par *“Attention Is All You Need”*) afin de mesurer l'accuracy de base du projet et quantifier les futures améliorations\n",
    "\n",
    "### Etape 1 : Importer les librairies utiles au projet"
   ]
  },
  {
   "cell_type": "code",
   "execution_count": 1,
   "id": "92e12bf3",
   "metadata": {},
   "outputs": [],
   "source": [
    "import torch as torch\n",
    "import pandas as pd"
   ]
  },
  {
   "cell_type": "markdown",
   "id": "d4ba7a2e",
   "metadata": {},
   "source": [
    "Test de Pytorch"
   ]
  },
  {
   "cell_type": "code",
   "execution_count": 2,
   "id": "d9ac2772",
   "metadata": {},
   "outputs": [
    {
     "name": "stdout",
     "output_type": "stream",
     "text": [
      "Using cpu device\n"
     ]
    }
   ],
   "source": [
    "device = 'cuda' if torch.cuda.is_available() else 'cpu'\n",
    "print('Using {} device'.format(device))"
   ]
  },
  {
   "cell_type": "markdown",
   "id": "28323de0",
   "metadata": {},
   "source": [
    "### Etape 2 : Chargeons les données"
   ]
  },
  {
   "cell_type": "code",
   "execution_count": 13,
   "id": "bd257dcb",
   "metadata": {},
   "outputs": [
    {
     "name": "stdout",
     "output_type": "stream",
     "text": [
      "--- Chargement du dataset ---\n",
      "Batch size : 100\n",
      "--- Chargement du dataset terminé ---\n"
     ]
    }
   ],
   "source": [
    "from torch.utils.data import DataLoader\n",
    "from torch.utils.data import Dataset\n",
    "\n",
    "\n",
    "class iSarcasmDataset(Dataset):\n",
    "  def __init__(self, sentence, labels):\n",
    "        self.sentence = sentence\n",
    "        self.labels = labels\n",
    "\n",
    "  def __len__(self):\n",
    "        return len(self.sentence)\n",
    "\n",
    "  def __getitem__(self, index):\n",
    "        x = self.sentence[index]\n",
    "        y = self.labels[index]\n",
    "\n",
    "        return x, y\n",
    "    \n",
    "    \n",
    "\n",
    "print(\"--- Chargement du dataset ---\")\n",
    "\n",
    "\n",
    "#On donne les informations du dataset\n",
    "directory = \"dataset/\"\n",
    "train_name = \"train.En.csv\"\n",
    "test_name = \"task_A_En_test.csv\"\n",
    "\n",
    "\n",
    "#On défini les paramètres du dataloader\n",
    "params = {'batch_size': 100,\n",
    "          'shuffle': False,\n",
    "          'num_workers': 1}\n",
    "\n",
    "\n",
    "#On créé nos données de test\n",
    "panda_Train = pd.read_csv(directory+train_name, index_col=[0])\n",
    "X_train = panda_Train['tweet']\n",
    "y_train = panda_Train['sarcastic']\n",
    "\n",
    "\n",
    "#On créé notre dataset pyTorch\n",
    "train_iSarcasm = iSarcasmDataset(X_train, y_train)\n",
    "training_generator = DataLoader(train_iSarcasm, **params)\n",
    "\n",
    "\n",
    "#On regarde que tout soit bien chargé\n",
    "for i, (batch, labels) in enumerate(training_generator):\n",
    "    if i > 0:\n",
    "        break\n",
    "    print(\"Batch size : \"+str(len(batch)))\n",
    "    \n",
    "print(\"--- Chargement du dataset terminé ---\")"
   ]
  },
  {
   "cell_type": "markdown",
   "id": "3e0c9cc0",
   "metadata": {},
   "source": [
    "On va maintenant entrainer un transformer de base sur nos données :"
   ]
  },
  {
   "cell_type": "code",
   "execution_count": null,
   "id": "64e6e4c3",
   "metadata": {},
   "outputs": [],
   "source": []
  }
 ],
 "metadata": {
  "kernelspec": {
   "display_name": "Python 3 (ipykernel)",
   "language": "python",
   "name": "python3"
  },
  "language_info": {
   "codemirror_mode": {
    "name": "ipython",
    "version": 3
   },
   "file_extension": ".py",
   "mimetype": "text/x-python",
   "name": "python",
   "nbconvert_exporter": "python",
   "pygments_lexer": "ipython3",
   "version": "3.10.6"
  }
 },
 "nbformat": 4,
 "nbformat_minor": 5
}
