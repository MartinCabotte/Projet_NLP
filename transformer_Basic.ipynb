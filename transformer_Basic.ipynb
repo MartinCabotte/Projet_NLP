{
 "cells": [
  {
   "cell_type": "markdown",
   "id": "947c22d5",
   "metadata": {},
   "source": [
    "# Notebook 1 : Transformer\n",
    "\n",
    "Le but de ce notebook est d'importer les données des datasets iSarcasmEval et de tester les transformer (tel que donné par *“Attention Is All You Need”*) afin de mesurer l'accuracy de base du projet et quantifier les futures améliorations\n",
    "\n",
    "### Etape 1 : Importer les librairies utiles au projet"
   ]
  },
  {
   "cell_type": "code",
   "execution_count": 1,
   "id": "92e12bf3",
   "metadata": {},
   "outputs": [],
   "source": [
    "import torch\n",
    "from torch import nn\n",
    "import numpy as np\n",
    "import pandas as pd"
   ]
  },
  {
   "cell_type": "markdown",
   "id": "d4ba7a2e",
   "metadata": {},
   "source": [
    "Test de Pytorch"
   ]
  },
  {
   "cell_type": "code",
   "execution_count": 2,
   "id": "d9ac2772",
   "metadata": {},
   "outputs": [
    {
     "name": "stdout",
     "output_type": "stream",
     "text": [
      "Using cpu device\n"
     ]
    }
   ],
   "source": [
    "device = 'cuda' if torch.cuda.is_available() else 'cpu'\n",
    "print('Using {} device'.format(device))"
   ]
  },
  {
   "cell_type": "markdown",
   "id": "28323de0",
   "metadata": {},
   "source": [
    "### Etape 2 : Chargeons les données"
   ]
  },
  {
   "cell_type": "code",
   "execution_count": 3,
   "id": "bd257dcb",
   "metadata": {},
   "outputs": [
    {
     "name": "stdout",
     "output_type": "stream",
     "text": [
      "--- Chargement des datasets ---\n",
      "ERROR - il y a des NAN dans le dataset\n",
      "--- Traitement en cours ---\n",
      "Batch size : 1\n",
      "Batch size : 1\n",
      "--- Chargement des datasets terminé ---\n"
     ]
    }
   ],
   "source": [
    "from torch.utils.data import DataLoader\n",
    "from torch.utils.data import Dataset\n",
    "from torch import optim\n",
    "\n",
    "\n",
    "class iSarcasmDataset(Dataset):\n",
    "  def __init__(self, sentence, labels):\n",
    "        self.sentence = sentence\n",
    "        self.labels = labels\n",
    "\n",
    "  def __len__(self):\n",
    "        return len(self.sentence)\n",
    "\n",
    "  def __getitem__(self, index):\n",
    "        x = self.sentence[index]\n",
    "        y = self.labels[index]\n",
    "\n",
    "        return x, y\n",
    "    \n",
    "    \n",
    "\n",
    "print(\"--- Chargement des datasets ---\")\n",
    "\n",
    "\n",
    "#On donne les informations du dataset\n",
    "directory = \"dataset/\"\n",
    "train_name = \"train.En.csv\"\n",
    "test_name = \"task_A_En_test.csv\"\n",
    "\n",
    "\n",
    "#On défini les paramètres du dataloader\n",
    "params = {'batch_size': 1,\n",
    "          'shuffle': False,\n",
    "          'num_workers': 1}\n",
    "\n",
    "\n",
    "#On créé nos données de test\n",
    "panda_Train = pd.read_csv(directory+train_name, index_col=[0])\n",
    "X_train = panda_Train['tweet']\n",
    "y_train = panda_Train['sarcastic']\n",
    "\n",
    "cpt = 0\n",
    "for phrase in X_train:\n",
    "    if pd.isna(phrase):\n",
    "        print(\"ERROR - il y a des NAN dans le dataset\")\n",
    "        print(\"--- Traitement en cours ---\")\n",
    "    cpt += 1\n",
    "\n",
    "indsNan = []\n",
    "cpt = 0\n",
    "for phrase in X_train:\n",
    "    if pd.isna(phrase):\n",
    "        indsNan.append(cpt)\n",
    "    cpt += 1\n",
    "    \n",
    "X_train = X_train.drop(indsNan)\n",
    "y_train = y_train.drop(indsNan)\n",
    "\n",
    "cpt = 0\n",
    "for phrase in X_train:\n",
    "    if pd.isna(phrase):\n",
    "        print(\"ERROR - il y a encore des NAN dans le dataset\")\n",
    "    cpt += 1\n",
    "\n",
    "#On créé notre dataset pyTorch\n",
    "train_iSarcasm = iSarcasmDataset(X_train, y_train)\n",
    "training_generator = DataLoader(train_iSarcasm, **params)\n",
    "\n",
    "\n",
    "#On regarde que tout soit bien chargé\n",
    "for i, (batch, labels) in enumerate(training_generator):\n",
    "    if i > 0:\n",
    "        break\n",
    "    print(\"Batch size : \"+str(len(batch)))\n",
    "    \n",
    "#On va créer nos données de validation\n",
    "panda_Test = pd.read_csv(directory+test_name, index_col=[0])\n",
    "X_test = panda_Test.index\n",
    "y_test = panda_Test['sarcastic']\n",
    "\n",
    "#On créé notre dataset pyTorch\n",
    "test_iSarcasm = iSarcasmDataset(X_test, y_test)\n",
    "test_generator = DataLoader(test_iSarcasm, **params)\n",
    "\n",
    "#On regarde que tout soit bien chargé\n",
    "for i, (batch, labels) in enumerate(test_generator):\n",
    "    if i > 0:\n",
    "        break\n",
    "    print(\"Batch size : \"+str(len(batch)))\n",
    "    \n",
    "print(\"--- Chargement des datasets terminé ---\")"
   ]
  },
  {
   "cell_type": "markdown",
   "id": "3e0c9cc0",
   "metadata": {},
   "source": [
    "On va maintenant réaliser un transformer de base sur nos données. Le réseau de neuronne aura la structure suivante : couche Embeddings, couche transformer, couche Dense pour la prédiction du prochain mot."
   ]
  },
  {
   "cell_type": "code",
   "execution_count": 4,
   "id": "e04e557f",
   "metadata": {},
   "outputs": [
    {
     "name": "stdout",
     "output_type": "stream",
     "text": [
      "--- Traitement sur notre vocabulaire ---\n",
      "La longueur du vocabulaire est de : 15801\n",
      "--- Création du Transformer basique ---\n",
      "--- Création du Transformer basique terminée ---\n"
     ]
    }
   ],
   "source": [
    "# On créé le vocabulaire\n",
    "\n",
    "print(\"--- Traitement sur notre vocabulaire ---\")\n",
    "\n",
    "list_of_words = []\n",
    "for phrase in X_train:\n",
    "    list_of_words.extend(phrase.split())\n",
    "    \n",
    "list_of_words = np.unique(list_of_words)\n",
    "len_Vocabulary = len(list_of_words)\n",
    "\n",
    "print(\"La longueur du vocabulaire est de : \"+str(len_Vocabulary))\n",
    "\n",
    "print(\"--- Création du Transformer basique ---\")\n",
    "\n",
    "class Transformer(nn.Module):\n",
    "    def __init__(self, len_vocab, len_embedding, nhead, num_layers):\n",
    "        super(Transformer, self).__init__()\n",
    "        \n",
    "        #On créé la layer de l'embedding\n",
    "        self.embedding = nn.Embedding(len_vocab, len_embedding)\n",
    "\n",
    "        #Le transformer\n",
    "        self.transformer = nn.Transformer(len_embedding, nhead, num_layers)\n",
    "\n",
    "        #La layer fully connected pour déterminer si la phrase est sarcastique ou non\n",
    "        self.fc = nn.Linear(len_embedding, 2)\n",
    "\n",
    "    def forward(self, x):\n",
    "        \n",
    "        #Pass avant de notre modèle\n",
    "        x = self.embedding(x)\n",
    "        x = self.transformer(x)\n",
    "        x = self.fc(x)\n",
    "        return x\n",
    "    \n",
    "print(\"--- Création du Transformer basique terminée ---\")\n"
   ]
  },
  {
   "cell_type": "markdown",
   "id": "57efe5ea",
   "metadata": {},
   "source": [
    "On va réaliser la fonction qui transforme notre text en one-hot encodings pour donner à manger au transformer :"
   ]
  },
  {
   "cell_type": "code",
   "execution_count": 5,
   "id": "6ec3df79",
   "metadata": {},
   "outputs": [],
   "source": [
    "from typing import Union, Iterable\n",
    "import torchtext\n",
    "from torchtext.data.utils import get_tokenizer\n",
    "from torchtext.vocab import build_vocab_from_iterator\n",
    "import torch.nn.functional as F\n",
    "\n",
    "\n",
    "tokenizer = get_tokenizer(\"basic_english\")\n",
    "tokens = [tokenizer(doc) for doc in list(X_train)]\n",
    "\n",
    "voc = build_vocab_from_iterator(tokens)\n",
    "\n",
    "def one_hot_encoding(voc, list_Of_Words):\n",
    "    indices = voc.forward(list_Of_Words)\n",
    "    matrixToReturn = np.zeros([len(list_Of_Words),voc.__len__()])\n",
    "    matrixToReturn[np.arange(len(list_Of_Words)),indices] = 1\n",
    "    return matrixToReturn"
   ]
  },
  {
   "cell_type": "markdown",
   "id": "7995e64c",
   "metadata": {},
   "source": [
    "On va maintenant réaliser un transformer classique pour voir l'accuracy témoin"
   ]
  },
  {
   "cell_type": "code",
   "execution_count": null,
   "id": "64e6e4c3",
   "metadata": {},
   "outputs": [],
   "source": [
    "# Paramètres de notre modèle\n",
    "taille_embeddings = 10\n",
    "nhead = 2\n",
    "num_layers = 3\n",
    "n_epoch = 1\n",
    "\n",
    "\n",
    "# On va optimiser notre modèle\n",
    "import torch.optim as optim\n",
    "\n",
    "# On déclare notre modèle\n",
    "model = Transformer(len_Vocabulary,taille_embeddings,nhead,num_layers)\n",
    "\n",
    "# On déclare notre loss\n",
    "loss = nn.CrossEntropyLoss()\n",
    "\n",
    "# On se déclare un optimiseur qui effectuera la descente de gradient\n",
    "optimizer = optim.Adam(model.parameters())\n",
    "\n",
    "# L'historique pour print plus tard\n",
    "loss_history, train_accuracy_history, valid_accuracy_history = [], [], []\n",
    "\n",
    "# On réalise notre nombre d'epochs\n",
    "for epoch in range(n_epoch):\n",
    "    \n",
    "    running_loss = 0\n",
    "    # On loop sur le batch\n",
    "    for i, (batch, labels) in enumerate(training_generator):\n",
    "\n",
    "        tokens = [tokenizer(doc) for doc in list(batch)]\n",
    "        \n",
    "        # zero the parameter gradients\n",
    "        optimizer.zero_grad()\n",
    "        \n",
    "        # forward + backward + optimize\n",
    "        outputs = model(one_hot_encoding(voc,tokens))\n",
    "        loss = loss(outputs, labels)\n",
    "        loss.backward()\n",
    "        optimizer.step()\n",
    "        \n",
    "        # print statistics\n",
    "        running_loss += loss.item()\n",
    "        if i % 2000 == 1999:    # print every 2000 mini-batches\n",
    "            print(f'[{epoch + 1}, {i + 1:5d}] loss: {running_loss / 2000:.3f}')\n",
    "            running_loss = 0.0\n",
    "            \n",
    "#Entrainement terminé"
   ]
  },
  {
   "cell_type": "code",
   "execution_count": null,
   "id": "c2ea4c5c",
   "metadata": {},
   "outputs": [],
   "source": []
  }
 ],
 "metadata": {
  "kernelspec": {
   "display_name": "Python 3 (ipykernel)",
   "language": "python",
   "name": "python3"
  },
  "language_info": {
   "codemirror_mode": {
    "name": "ipython",
    "version": 3
   },
   "file_extension": ".py",
   "mimetype": "text/x-python",
   "name": "python",
   "nbconvert_exporter": "python",
   "pygments_lexer": "ipython3",
   "version": "3.10.6"
  }
 },
 "nbformat": 4,
 "nbformat_minor": 5
}
